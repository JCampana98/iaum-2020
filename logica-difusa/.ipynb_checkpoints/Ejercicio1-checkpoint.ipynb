{
 "cells": [
  {
   "cell_type": "markdown",
   "metadata": {},
   "source": [
    "# Ejercicio 1 - Heladería\n",
    "\n",
    "Se quiere calcular la catidad de clientes que tendrá una heladería dependiendo de la temperatura exterior.\n",
    "\n",
    "- Si la temperatura es <b>alta</b> entonces la heladería estará <b>llena</b>\n",
    "- Si la temperatura es <b>moderada</b> entonces la heladería estará <b>ocupada</b>\n",
    "- Si la temperatura es <b>baja</b> entonces la heladería estará <b>tranquila</b>\n",
    "\n",
    "El número máximo de clientes para el local es de 35 clientes.\n",
    "Definir los rangos de pertenencias para los antecedentes y consecuentes."
   ]
  },
  {
   "cell_type": "code",
   "execution_count": 2,
   "metadata": {},
   "outputs": [],
   "source": [
    "%matplotlib inline\n",
    "import numpy as np\n",
    "import skfuzzy as fuzz\n",
    "from skfuzzy import control as ctrl\n",
    "import matplotlib\n",
    "import matplotlib.pyplot as plt"
   ]
  },
  {
   "cell_type": "markdown",
   "metadata": {},
   "source": [
    "## Antecendentes\n",
    "\n",
    "Definir y graficar los antecedentes para el problema."
   ]
  },
  {
   "cell_type": "code",
   "execution_count": 1,
   "metadata": {},
   "outputs": [
    {
     "ename": "NameError",
     "evalue": "name 'ctrl' is not defined",
     "output_type": "error",
     "traceback": [
      "\u001b[1;31m---------------------------------------------------------------------------\u001b[0m",
      "\u001b[1;31mNameError\u001b[0m                                 Traceback (most recent call last)",
      "\u001b[1;32m<ipython-input-1-acc202b14e38>\u001b[0m in \u001b[0;36m<module>\u001b[1;34m\u001b[0m\n\u001b[1;32m----> 1\u001b[1;33m \u001b[0mtemp\u001b[0m \u001b[1;33m=\u001b[0m \u001b[0mctrl\u001b[0m\u001b[1;33m.\u001b[0m\u001b[0mAntecedent\u001b[0m\u001b[1;33m(\u001b[0m\u001b[0mnp\u001b[0m\u001b[1;33m.\u001b[0m\u001b[0marange\u001b[0m\u001b[1;33m(\u001b[0m\u001b[1;33m-\u001b[0m\u001b[1;36m10\u001b[0m\u001b[1;33m,\u001b[0m \u001b[1;36m41\u001b[0m\u001b[1;33m,\u001b[0m \u001b[1;36m1\u001b[0m\u001b[1;33m)\u001b[0m\u001b[1;33m,\u001b[0m \u001b[1;34m'temp'\u001b[0m\u001b[1;33m)\u001b[0m\u001b[1;33m\u001b[0m\u001b[1;33m\u001b[0m\u001b[0m\n\u001b[0m\u001b[0;32m      2\u001b[0m \u001b[0mtemp\u001b[0m\u001b[1;33m[\u001b[0m\u001b[1;34m'baja'\u001b[0m\u001b[1;33m]\u001b[0m \u001b[1;33m=\u001b[0m \u001b[0mfuzz\u001b[0m\u001b[1;33m.\u001b[0m\u001b[0mtrimf\u001b[0m\u001b[1;33m(\u001b[0m\u001b[0mtemp\u001b[0m\u001b[1;33m.\u001b[0m\u001b[0muniverse\u001b[0m\u001b[1;33m,\u001b[0m \u001b[1;33m[\u001b[0m\u001b[1;33m-\u001b[0m\u001b[1;36m10\u001b[0m\u001b[1;33m,\u001b[0m \u001b[1;33m-\u001b[0m\u001b[1;36m10\u001b[0m\u001b[1;33m,\u001b[0m \u001b[1;36m15\u001b[0m\u001b[1;33m]\u001b[0m\u001b[1;33m)\u001b[0m\u001b[1;33m\u001b[0m\u001b[1;33m\u001b[0m\u001b[0m\n\u001b[0;32m      3\u001b[0m \u001b[0mtemp\u001b[0m\u001b[1;33m[\u001b[0m\u001b[1;34m'moderada'\u001b[0m\u001b[1;33m]\u001b[0m \u001b[1;33m=\u001b[0m \u001b[0mfuzz\u001b[0m\u001b[1;33m.\u001b[0m\u001b[0mtrimf\u001b[0m\u001b[1;33m(\u001b[0m\u001b[0mtemp\u001b[0m\u001b[1;33m.\u001b[0m\u001b[0muniverse\u001b[0m\u001b[1;33m,\u001b[0m \u001b[1;33m[\u001b[0m\u001b[1;36m8\u001b[0m\u001b[1;33m,\u001b[0m \u001b[1;36m20\u001b[0m\u001b[1;33m,\u001b[0m \u001b[1;36m33\u001b[0m\u001b[1;33m]\u001b[0m\u001b[1;33m)\u001b[0m\u001b[1;33m\u001b[0m\u001b[1;33m\u001b[0m\u001b[0m\n\u001b[0;32m      4\u001b[0m \u001b[0mtemp\u001b[0m\u001b[1;33m[\u001b[0m\u001b[1;34m'alta'\u001b[0m\u001b[1;33m]\u001b[0m \u001b[1;33m=\u001b[0m \u001b[0mfuzz\u001b[0m\u001b[1;33m.\u001b[0m\u001b[0mtrapmf\u001b[0m\u001b[1;33m(\u001b[0m\u001b[0mtemp\u001b[0m\u001b[1;33m.\u001b[0m\u001b[0muniverse\u001b[0m\u001b[1;33m,\u001b[0m \u001b[1;33m[\u001b[0m\u001b[1;36m20\u001b[0m\u001b[1;33m,\u001b[0m \u001b[1;36m25\u001b[0m\u001b[1;33m,\u001b[0m \u001b[1;36m41\u001b[0m\u001b[1;33m,\u001b[0m \u001b[1;36m41\u001b[0m\u001b[1;33m]\u001b[0m\u001b[1;33m)\u001b[0m\u001b[1;33m\u001b[0m\u001b[1;33m\u001b[0m\u001b[0m\n\u001b[0;32m      5\u001b[0m \u001b[0mtemp\u001b[0m\u001b[1;33m.\u001b[0m\u001b[0mview\u001b[0m\u001b[1;33m(\u001b[0m\u001b[1;33m)\u001b[0m\u001b[1;33m\u001b[0m\u001b[1;33m\u001b[0m\u001b[0m\n",
      "\u001b[1;31mNameError\u001b[0m: name 'ctrl' is not defined"
     ]
    }
   ],
   "source": [
    "temp = ctrl.Antecedent(np.arange(-10, 41, 1), 'temp')\n",
    "temp['baja'] = fuzz.trimf(temp.universe, [-10, -10, 15])\n",
    "temp['moderada'] = fuzz.trimf(temp.universe, [8, 20, 33])\n",
    "temp['alta'] = fuzz.trapmf(temp.universe, [20, 25, 41, 41])\n",
    "temp.view()\n"
   ]
  },
  {
   "cell_type": "markdown",
   "metadata": {},
   "source": [
    "## Consecuentes\n",
    "\n",
    "Definir y gráficar los antecedentes para el problema."
   ]
  },
  {
   "cell_type": "code",
   "execution_count": 26,
   "metadata": {},
   "outputs": [
    {
     "name": "stderr",
     "output_type": "stream",
     "text": [
      "/home/orneegv/anaconda3/lib/python3.8/site-packages/skfuzzy/control/fuzzyvariable.py:122: UserWarning: Matplotlib is currently using module://ipykernel.pylab.backend_inline, which is a non-GUI backend, so cannot show the figure.\n",
      "  fig.show()\n"
     ]
    },
    {
     "data": {
      "image/png": "[encoded data removed]",
      "text/plain": [
       "<Figure size 432x288 with 1 Axes>"
      ]
     },
     "metadata": {
      "needs_background": "light"
     },
     "output_type": "display_data"
    }
   ],
   "source": [
    "cliente = ctrl.Consequent(np.arange(0, 36, 1), 'cliente')\n",
    "cliente['tranquila'] = fuzz.trimf(cliente.universe, [0, 0, 17])\n",
    "cliente['moderada'] = fuzz.trimf(cliente.universe, [12, 18, 30])\n",
    "cliente['llena'] = fuzz.trimf(cliente.universe, [25, 35, 35])\n",
    "cliente.view()\n"
   ]
  },
  {
   "cell_type": "markdown",
   "metadata": {},
   "source": [
    "## Reglas\n",
    "\n",
    "Definir las reglas para el sistema."
   ]
  },
  {
   "cell_type": "code",
   "execution_count": 5,
   "metadata": {},
   "outputs": [],
   "source": [
    "cliente.defuzzify_method = 'centroid'\n",
    "rules = []\n",
    "rules.append(ctrl.Rule(temp['baja'], cliente['tranquila']))\n",
    "rules.append(ctrl.Rule(temp['moderada'], cliente['moderada']))\n",
    "rules.append(ctrl.Rule(temp['alta'], cliente['llena']))\n"
   ]
  },
  {
   "cell_type": "markdown",
   "metadata": {},
   "source": [
    "## Simulación\n",
    "\n",
    "Simular y graficar la salida del sistema para las siguientes temperaturas.\n",
    " - -10º\n",
    " - 0º\n",
    " - 10º\n",
    " - 14º\n",
    " - 20º\n",
    " - 33 º"
   ]
  },
  {
   "cell_type": "code",
   "execution_count": 28,
   "metadata": {},
   "outputs": [
    {
     "name": "stdout",
     "output_type": "stream",
     "text": [
      "=============\n",
      " Antecedents \n",
      "=============\n",
      "Antecedent: temp                    = 33\n",
      "  - baja                            : 0.0\n",
      "  - moderada                        : 0.0\n",
      "  - alta                            : 0.6153846153846154\n",
      "\n",
      "=======\n",
      " Rules \n",
      "=======\n",
      "RULE #0:\n",
      "  IF temp[baja] THEN cliente[tranquila]\n",
      "\tAND aggregation function : fmin\n",
      "\tOR aggregation function  : fmax\n",
      "\n",
      "  Aggregation (IF-clause):\n",
      "  - temp[baja]                                             : 0.0\n",
      "                                                temp[baja] = 0.0\n",
      "  Activation (THEN-clause):\n",
      "                                        cliente[tranquila] : 0.0\n",
      "\n",
      "RULE #1:\n",
      "  IF temp[moderada] THEN cliente[moderada]\n",
      "\tAND aggregation function : fmin\n",
      "\tOR aggregation function  : fmax\n",
      "\n",
      "  Aggregation (IF-clause):\n",
      "  - temp[moderada]                                         : 0.0\n",
      "                                            temp[moderada] = 0.0\n",
      "  Activation (THEN-clause):\n",
      "                                         cliente[moderada] : 0.0\n",
      "\n",
      "RULE #2:\n",
      "  IF temp[alta] THEN cliente[llena]\n",
      "\tAND aggregation function : fmin\n",
      "\tOR aggregation function  : fmax\n",
      "\n",
      "  Aggregation (IF-clause):\n",
      "  - temp[alta]                                             : 0.6153846153846154\n",
      "                                                temp[alta] = 0.6153846153846154\n",
      "  Activation (THEN-clause):\n",
      "                                            cliente[llena] : 0.6153846153846154\n",
      "\n",
      "\n",
      "==============================\n",
      " Intermediaries and Conquests \n",
      "==============================\n",
      "Consequent: cliente                  = 31.310541310541307\n",
      "  tranquila:\n",
      "    Accumulate using accumulation_max : 0.0\n",
      "  moderada:\n",
      "    Accumulate using accumulation_max : 0.0\n",
      "  llena:\n",
      "    Accumulate using accumulation_max : 0.6153846153846154\n",
      "\n",
      "Resultado:31.310541310541307\n"
     ]
    },
    {
     "name": "stderr",
     "output_type": "stream",
     "text": [
      "/home/orneegv/anaconda3/lib/python3.8/site-packages/skfuzzy/control/fuzzyvariable.py:122: UserWarning: Matplotlib is currently using module://ipykernel.pylab.backend_inline, which is a non-GUI backend, so cannot show the figure.\n",
      "  fig.show()\n"
     ]
    },
    {
     "data": {
      "image/png": "[encoded data removed]",
      "text/plain": [
       "<Figure size 432x288 with 1 Axes>"
      ]
     },
     "metadata": {
      "needs_background": "light"
     },
     "output_type": "display_data"
    }
   ],
   "source": [
    "ctrSys = ctrl.ControlSystem(rules)\n",
    "personas = ctrl.ControlSystemSimulation(ctrSys)\n",
    "\n",
    "personas.input['temp'] = 33\n",
    "personas.compute()\n",
    "personas.print_state() #Archivo control/controlsystem.py modificado\n",
    "cliente.view(sim=personas)\n",
    "print(\"Resultado:\"+str(personas.output['cliente']))"
   ]
  },
  {
   "cell_type": "code",
   "execution_count": null,
   "metadata": {},
   "outputs": [],
   "source": []
  },
  {
   "cell_type": "code",
   "execution_count": null,
   "metadata": {},
   "outputs": [],
   "source": []
  }
 ],
 "metadata": {
  "kernelspec": {
   "display_name": "Python 3",
   "language": "python",
   "name": "python3"
  },
  "language_info": {
   "codemirror_mode": {
    "name": "ipython",
    "version": 3
   },
   "file_extension": ".py",
   "mimetype": "text/x-python",
   "name": "python",
   "nbconvert_exporter": "python",
   "pygments_lexer": "ipython3",
   "version": "3.8.3"
  }
 },
 "nbformat": 4,
 "nbformat_minor": 4
}
