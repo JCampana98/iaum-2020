{
 "cells": [
  {
   "cell_type": "markdown",
   "metadata": {},
   "source": [
    "Este conjunto de datos se puede utilizar para predecir la gravedad (benigna o maligna)\n",
    "de una masa mamográfica a partir de los atributos BI-RADS y la edad de la paciente. Contiene una evaluación BI-RADS, la edad del paciente y tres atributos BI-RADS junto con la gravedad para 516 casos benignos y 445 masas malignas que se han identificado en mamografías digitales de campo completo recogidos en el Instituto de Radiología de la Universidad Erlangen-Nuremberg entre 2003 y 2006.\n",
    "Cada instancia tiene una evaluación BI-RADS asociada que varía de 1 (definitivamente benigna)\n",
    "a 5 (altamente sugestivo de malignidad) asignado en un proceso de doble revisión por\n",
    "médicos"
   ]
  },
  {
   "cell_type": "markdown",
   "metadata": {},
   "source": [
    "### Ejercicio\n",
    "\n",
    "- Generar un conjunto de entrenamiento y uno de prueba\n",
    "- Entrenar el modelo\n",
    "- Hacer predicciones sobre el conjunto de prueba\n",
    "- Evaluar el modelo\n",
    "\n",
    "¿El modelo logra clasificar correctamente los casos de prueba?\n",
    "¿Cómo afectaría en la realidad el error de este modelo?\n"
   ]
  },
  {
   "cell_type": "code",
   "execution_count": 1,
   "metadata": {},
   "outputs": [],
   "source": [
    "import pandas as pd\n",
    "from sklearn.model_selection import train_test_split\n",
    "from sklearn.naive_bayes import GaussianNB\n",
    "from sklearn import metrics\n",
    "import matplotlib.pyplot as plt"
   ]
  },
  {
   "cell_type": "markdown",
   "metadata": {
    "pycharm": {
     "name": "#%% md\n"
    }
   },
   "source": [
    "## Obtener datos"
   ]
  },
  {
   "cell_type": "code",
   "execution_count": 2,
   "metadata": {
    "pycharm": {
     "name": "#%%\n"
    }
   },
   "outputs": [
    {
     "data": {
      "text/html": [
       "<div>\n",
       "<style scoped>\n",
       "    .dataframe tbody tr th:only-of-type {\n",
       "        vertical-align: middle;\n",
       "    }\n",
       "\n",
       "    .dataframe tbody tr th {\n",
       "        vertical-align: top;\n",
       "    }\n",
       "\n",
       "    .dataframe thead th {\n",
       "        text-align: right;\n",
       "    }\n",
       "</style>\n",
       "<table border=\"1\" class=\"dataframe\">\n",
       "  <thead>\n",
       "    <tr style=\"text-align: right;\">\n",
       "      <th></th>\n",
       "      <th>BI_RADS_assessment</th>\n",
       "      <th>age</th>\n",
       "      <th>shape</th>\n",
       "      <th>margin</th>\n",
       "      <th>density</th>\n",
       "      <th>severity</th>\n",
       "    </tr>\n",
       "  </thead>\n",
       "  <tbody>\n",
       "    <tr>\n",
       "      <th>0</th>\n",
       "      <td>5</td>\n",
       "      <td>67</td>\n",
       "      <td>3</td>\n",
       "      <td>5</td>\n",
       "      <td>3</td>\n",
       "      <td>1</td>\n",
       "    </tr>\n",
       "    <tr>\n",
       "      <th>1</th>\n",
       "      <td>4</td>\n",
       "      <td>43</td>\n",
       "      <td>1</td>\n",
       "      <td>1</td>\n",
       "      <td>-100000</td>\n",
       "      <td>1</td>\n",
       "    </tr>\n",
       "    <tr>\n",
       "      <th>2</th>\n",
       "      <td>5</td>\n",
       "      <td>58</td>\n",
       "      <td>4</td>\n",
       "      <td>5</td>\n",
       "      <td>3</td>\n",
       "      <td>1</td>\n",
       "    </tr>\n",
       "    <tr>\n",
       "      <th>3</th>\n",
       "      <td>4</td>\n",
       "      <td>28</td>\n",
       "      <td>1</td>\n",
       "      <td>1</td>\n",
       "      <td>3</td>\n",
       "      <td>0</td>\n",
       "    </tr>\n",
       "    <tr>\n",
       "      <th>4</th>\n",
       "      <td>5</td>\n",
       "      <td>74</td>\n",
       "      <td>1</td>\n",
       "      <td>5</td>\n",
       "      <td>-100000</td>\n",
       "      <td>1</td>\n",
       "    </tr>\n",
       "  </tbody>\n",
       "</table>\n",
       "</div>"
      ],
      "text/plain": [
       "   BI_RADS_assessment  age  shape  margin  density  severity\n",
       "0                   5   67      3       5        3         1\n",
       "1                   4   43      1       1  -100000         1\n",
       "2                   5   58      4       5        3         1\n",
       "3                   4   28      1       1        3         0\n",
       "4                   5   74      1       5  -100000         1"
      ]
     },
     "execution_count": 2,
     "metadata": {},
     "output_type": "execute_result"
    }
   ],
   "source": [
    "df = pd.read_csv('mammogram_dataset.csv')\n",
    "df.head()"
   ]
  },
  {
   "cell_type": "markdown",
   "metadata": {},
   "source": []
  },
  {
   "cell_type": "markdown",
   "metadata": {},
   "source": [
    "### Obtener subconjunto de atributos"
   ]
  },
  {
   "cell_type": "code",
   "execution_count": 3,
   "metadata": {
    "pycharm": {
     "name": "#%%\n"
    }
   },
   "outputs": [
    {
     "data": {
      "text/plain": [
       "array([[ 5, 67,  3,  5],\n",
       "       [ 4, 43,  1,  1],\n",
       "       [ 5, 58,  4,  5],\n",
       "       ...,\n",
       "       [ 4, 64,  4,  5],\n",
       "       [ 5, 66,  4,  5],\n",
       "       [ 4, 62,  3,  3]], dtype=int64)"
      ]
     },
     "execution_count": 3,
     "metadata": {},
     "output_type": "execute_result"
    }
   ],
   "source": [
    "data=df.values[:,:4]\n",
    "data"
   ]
  },
  {
   "cell_type": "markdown",
   "metadata": {},
   "source": [
    "### Obtener subconjunto de clases"
   ]
  },
  {
   "cell_type": "code",
   "execution_count": 4,
   "metadata": {
    "pycharm": {
     "name": "#%%\n"
    }
   },
   "outputs": [
    {
     "data": {
      "text/plain": [
       "array([      3, -100000,       3,       3, -100000,       3,       3,\n",
       "             3,       3,       1,       3,       3,       3,       2,\n",
       "             2,       3,       3,       3,       3, -100000,       1,\n",
       "             1, -100000,       3,       3,       3, -100000,       3,\n",
       "             3,       3,       2,       3,       3,       2,       3,\n",
       "       -100000,       3,       2, -100000,       2, -100000,       1,\n",
       "             3, -100000,       2, -100000,       3, -100000,       4,\n",
       "             3,       2,       3, -100000, -100000,       3, -100000,\n",
       "             1, -100000, -100000, -100000,       3,       3,       3,\n",
       "       -100000,       3, -100000,       3, -100000,       3,       3,\n",
       "             2,       3,       3,       3, -100000,       3,       2,\n",
       "             3,       2,       1,       3,       2,       3,       1,\n",
       "       -100000, -100000,       3, -100000, -100000,       3,       3,\n",
       "             3, -100000,       3,       3,       3, -100000, -100000,\n",
       "             3,       3, -100000, -100000, -100000, -100000, -100000,\n",
       "       -100000, -100000, -100000,       3, -100000,       3,       3,\n",
       "             2, -100000, -100000,       3, -100000,       2,       3,\n",
       "             3,       3, -100000,       2,       3,       3,       2,\n",
       "       -100000, -100000, -100000,       3,       3,       3,       3,\n",
       "       -100000,       3,       3,       3,       3,       3,       3,\n",
       "             3,       3, -100000,       2, -100000,       3,       3,\n",
       "             3,       3,       3,       4,       4,       3,       2,\n",
       "             3,       3, -100000,       3, -100000,       3,       3,\n",
       "             3,       3,       3,       3,       3,       3,       3,\n",
       "             3,       3,       3, -100000,       3,       3,       3,\n",
       "             3, -100000,       2,       3,       3,       3,       4,\n",
       "             3,       2, -100000,       3,       3,       3,       3,\n",
       "             3,       3,       3,       3,       3,       3,       3,\n",
       "             3,       3,       2,       3,       3,       3,       3,\n",
       "             3,       3,       3,       3,       3,       3, -100000,\n",
       "             1,       3, -100000,       3,       3,       3,       3,\n",
       "             3, -100000,       3,       3,       3,       3,       3,\n",
       "             3,       3,       3,       1,       3,       3,       3,\n",
       "             3,       3,       3,       3,       3,       1,       3,\n",
       "             3,       2,       3,       3,       3,       3,       3,\n",
       "             3,       3,       3,       3,       3,       3,       2,\n",
       "             3,       3,       3,       2,       3,       3,       1,\n",
       "             3,       3,       3, -100000,       3,       3,       3,\n",
       "             3,       3,       3,       3,       3,       3,       3,\n",
       "             2,       3,       3,       3, -100000,       3,       3,\n",
       "             3,       3,       2,       3,       3, -100000,       3,\n",
       "             3,       4,       4,       3,       2,       3,       3,\n",
       "             3,       3,       3,       3,       3,       3,       3,\n",
       "             3,       2,       3,       3, -100000,       2,       3,\n",
       "             3,       3,       3,       3,       3,       3,       3,\n",
       "             3,       3,       3,       3,       3,       3,       3,\n",
       "             3,       2,       2,       3,       2,       2,       3,\n",
       "             3,       3,       3,       3,       3,       3,       3,\n",
       "             3,       3,       3, -100000,       3,       3,       3,\n",
       "             3,       3,       3,       3,       3,       3,       3,\n",
       "             3, -100000,       3,       3,       3,       3,       3,\n",
       "             3,       3,       3,       3,       3,       3,       3,\n",
       "             4,       3,       3,       3,       3,       3,       3,\n",
       "       -100000, -100000,       3,       3, -100000,       3,       3,\n",
       "             3,       3,       3,       3,       3,       3,       3,\n",
       "             3,       3,       3,       3,       3,       3,       3,\n",
       "             3,       3,       4,       3,       3,       3,       3,\n",
       "             3,       3,       3,       3,       3,       3,       3,\n",
       "             3,       3,       3,       3,       3,       3,       3,\n",
       "             3,       3,       3,       3,       3,       3,       3,\n",
       "             3, -100000,       3,       3,       3,       3,       3,\n",
       "             3,       3,       3,       3,       3,       3,       3,\n",
       "             3,       3,       3,       3,       3,       3,       3,\n",
       "             3,       3,       3,       3,       3,       3,       3,\n",
       "             3,       3,       3,       3,       3,       3,       3,\n",
       "             3,       3,       3,       3,       3, -100000,       3,\n",
       "             3,       3, -100000,       3,       3,       3,       3,\n",
       "             3,       3,       3,       3,       3,       3,       3,\n",
       "             3,       3,       2,       3,       3,       3,       3,\n",
       "             3,       3,       3,       3,       3,       3,       3,\n",
       "             3,       3,       3,       3, -100000,       3,       3,\n",
       "             3,       3,       3,       3, -100000,       3,       3,\n",
       "             3,       3,       3,       3,       3,       3,       3,\n",
       "             3,       3,       3,       3,       3,       3,       3,\n",
       "             3,       3,       3,       3,       3,       3,       3,\n",
       "             3,       3,       3,       3,       3,       3,       3,\n",
       "             3,       3,       3,       3,       3,       3,       3,\n",
       "             3,       3,       3,       3,       3,       3,       3,\n",
       "             3,       3,       3,       3,       3,       3,       3,\n",
       "             3,       3,       3,       3,       3,       3,       3,\n",
       "             3,       3,       3,       3,       3,       3,       3,\n",
       "             3,       3, -100000,       3,       3,       3,       3,\n",
       "       -100000,       3,       3,       3,       3,       3,       3,\n",
       "             2,       3,       3,       3,       3,       3,       3,\n",
       "             3,       3,       3,       3,       3,       3,       3,\n",
       "             4,       3,       3,       3,       3,       3,       3,\n",
       "             3,       3,       3,       3,       3,       3,       3,\n",
       "             3,       3,       3,       3,       3, -100000,       3,\n",
       "             3,       3,       3,       3,       3,       3,       3,\n",
       "             3,       3,       3,       3, -100000,       1,       3,\n",
       "             3,       3,       3,       3,       3,       3,       3,\n",
       "             3,       3,       3,       3,       3,       3,       3,\n",
       "             3,       3,       3,       3,       3,       3,       3,\n",
       "             3,       3,       3,       3,       3,       3,       3,\n",
       "             3,       3,       3,       3,       3,       3,       3,\n",
       "       -100000,       3,       3,       3,       3,       3,       3,\n",
       "             3,       3,       3,       3,       3, -100000,       3,\n",
       "             3,       3,       3,       3,       3,       3,       1,\n",
       "             3,       3,       3,       3,       3,       3,       3,\n",
       "             3,       3,       3,       3,       3,       2,       3,\n",
       "             3,       3,       3,       3,       3,       3,       3,\n",
       "             3,       3,       3,       3,       3,       3,       3,\n",
       "             3,       2,       2,       3,       3,       3,       3,\n",
       "             3,       3,       4,       3,       2,       3,       3,\n",
       "             3,       3,       3,       3,       3,       3,       3,\n",
       "             3,       3,       3,       3,       3,       3,       3,\n",
       "             3,       3,       3,       3,       3,       3,       3,\n",
       "             3,       3,       3, -100000,       2,       3,       3,\n",
       "             3,       3,       3,       3,       3,       3,       3,\n",
       "             3,       2,       3,       3,       3,       3,       3,\n",
       "             3,       2,       3,       3,       3,       3,       3,\n",
       "             3,       3,       3,       3,       3,       3,       3,\n",
       "             3,       3,       2,       3,       3,       3,       3,\n",
       "             3,       2,       2,       3,       3,       2,       3,\n",
       "             3,       3,       3,       2,       3,       3,       3,\n",
       "             2,       2,       3,       3,       3,       3,       3,\n",
       "             3,       3,       4,       3,       3,       3,       2,\n",
       "             2,       3,       3,       3,       1,       4,       3,\n",
       "             3,       3,       3,       2,       3,       3,       3,\n",
       "             3,       3,       3,       3,       2,       3,       3,\n",
       "             3,       3,       3,       2,       3,       2,       3,\n",
       "             3,       3,       3,       2,       3,       3,       3,\n",
       "             3,       3,       3,       3,       3,       3,       3,\n",
       "             3,       3,       2,       3,       3,       3,       3,\n",
       "             3,       3,       3,       3,       3,       3,       3,\n",
       "             3,       3,       3,       3,       3,       3,       3,\n",
       "             3,       3,       3,       3,       3,       3,       3,\n",
       "             2,       3,       1,       3,       3,       3,       3,\n",
       "             3,       3,       3,       3,       3,       3,       3,\n",
       "             3,       3,       3,       3,       3,       3,       3,\n",
       "             3,       3,       3,       3,       3,       3,       3,\n",
       "             3,       3,       3,       3,       3,       3,       3,\n",
       "             3,       3,       3,       3,       3,       3,       3,\n",
       "             3,       2,       3,       3,       3,       3,       3,\n",
       "             3,       3,       3,       3,       3,       1,       3,\n",
       "             3,       3,       3,       3,       3,       3,       3,\n",
       "             3,       3,       3,       3,       3,       3,       3,\n",
       "             3,       3], dtype=int64)"
      ]
     },
     "execution_count": 4,
     "metadata": {},
     "output_type": "execute_result"
    }
   ],
   "source": [
    "target=df.values[:,4]\n",
    "target"
   ]
  },
  {
   "cell_type": "markdown",
   "metadata": {},
   "source": [
    "## Generar un conjunto de entrenamiento y uno de prueba"
   ]
  },
  {
   "cell_type": "code",
   "execution_count": 5,
   "metadata": {
    "pycharm": {
     "name": "#%%\n"
    }
   },
   "outputs": [],
   "source": [
    "X_train, X_test, y_train, y_test = train_test_split(data, target, test_size=0.5, random_state=89)"
   ]
  },
  {
   "cell_type": "markdown",
   "metadata": {},
   "source": [
    "## Entrenar modelo"
   ]
  },
  {
   "cell_type": "code",
   "execution_count": 6,
   "metadata": {
    "pycharm": {
     "name": "#%%\n"
    }
   },
   "outputs": [
    {
     "data": {
      "text/plain": [
       "GaussianNB()"
      ]
     },
     "execution_count": 6,
     "metadata": {},
     "output_type": "execute_result"
    }
   ],
   "source": [
    "gnb = GaussianNB()\n",
    "gnb.fit(X_train, y_train)"
   ]
  },
  {
   "cell_type": "markdown",
   "metadata": {},
   "source": [
    "## Obtener Predicciones"
   ]
  },
  {
   "cell_type": "code",
   "execution_count": 7,
   "metadata": {
    "pycharm": {
     "name": "#%%\n"
    }
   },
   "outputs": [
    {
     "data": {
      "text/plain": [
       "array([      2,       2,       2,       2,       4,       2,       2,\n",
       "             2,       4,       2,       2,       2,       2,       2,\n",
       "             2,       2,       2,       2,       2,       2,       2,\n",
       "             2, -100000,       2,       2,       2,       2,       2,\n",
       "             2,       2,       2,       2,       2,       2,       2,\n",
       "             2,       2,       2,       2,       2,       2,       2,\n",
       "             2,       2, -100000,       2,       2,       2,       2,\n",
       "             2,       2,       2,       2,       2,       2,       2,\n",
       "             2,       2,       2,       2,       2,       2,       2,\n",
       "             2,       2,       2,       2,       2,       2,       2,\n",
       "             2,       2,       2,       2, -100000,       2,       2,\n",
       "             2,       2,       2,       2,       2,       2,       2,\n",
       "             2,       2,       2,       2,       2,       2,       2,\n",
       "             2,       2,       2,       2,       2,       2,       2,\n",
       "             2,       2,       2,       2,       2,       2,       2,\n",
       "             2,       2,       2,       2,       2,       2,       2,\n",
       "             2,       2,       2,       2,       2,       2,       2,\n",
       "             2,       2,       2,       2,       2,       2,       2,\n",
       "             2,       2,       2,       2,       2,       2,       2,\n",
       "             2,       2,       2,       2,       2,       2,       2,\n",
       "             2,       2,       2,       2,       2,       2,       2,\n",
       "             2,       2,       2,       2,       4,       2,       2,\n",
       "             2, -100000,       2,       2,       2,       2,       2,\n",
       "             2,       2,       2,       2,       2,       2,       2,\n",
       "             2,       2,       2,       2,       2,       2,       2,\n",
       "             2,       2,       2,       2, -100000,       2,       2,\n",
       "             2,       2,       2,       2,       2,       2,       2,\n",
       "             2,       2,       2,       2,       2,       2,       2,\n",
       "       -100000,       2,       2,       2,       2,       2, -100000,\n",
       "             2,       2,       2,       2,       2,       2,       2,\n",
       "       -100000, -100000,       2,       2,       2,       2,       2,\n",
       "             2,       2,       2,       2, -100000, -100000,       2,\n",
       "             2,       2,       2,       2,       2,       2,       2,\n",
       "             2,       2,       2,       2,       2,       2,       2,\n",
       "             2,       2,       2,       2,       2,       2,       2,\n",
       "             2,       4,       2,       2,       2,       2,       2,\n",
       "             2,       2,       2,       2,       2,       2,       2,\n",
       "             2,       2,       2,       2,       2,       2,       2,\n",
       "             2,       2,       2,       2,       2,       2,       2,\n",
       "             2,       2,       2,       2,       2,       2,       2,\n",
       "             2,       2,       2,       2,       2,       2, -100000,\n",
       "             2,       2,       2,       2,       2,       2,       2,\n",
       "             2,       2,       2,       2,       2,       2,       2,\n",
       "             2,       2,       2,       2,       2,       2,       2,\n",
       "             2,       2,       2,       2,       2,       2,       2,\n",
       "             2,       2,       2,       2,       2,       2,       2,\n",
       "             2,       2, -100000,       2,       2,       2, -100000,\n",
       "             2,       2,       2,       2,       2,       2,       2,\n",
       "             2,       2,       2,       2,       2,       2,       2,\n",
       "             2,       2,       2,       4,       2,       3,       2,\n",
       "             2,       4,       2,       2,       2,       4,       2,\n",
       "             2,       2,       2,       2,       2,       2,       2,\n",
       "             2,       2,       2,       2,       2,       2,       2,\n",
       "             2,       2,       2,       2,       2,       2,       2,\n",
       "             2, -100000,       2,       2,       2,       2,       2,\n",
       "             2,       2, -100000,       2,       2,       2,       2,\n",
       "             2,       2,       2,       2,       2,       2,       2,\n",
       "             2,       2,       2,       2,       2,       2,       2,\n",
       "             2,       2,       2,       2,       2,       2,       2,\n",
       "             2,       2,       2,       2,       2,       2,       2,\n",
       "             2,       2, -100000,       2,       2,       2,       2,\n",
       "             2,       2,       2,       2,       2,       4,       2,\n",
       "       -100000,       2,       2,       2,       2,       2,       2,\n",
       "             2,       2,       2,       2,       2,       2,       2,\n",
       "             2,       2,       2,       2,       2,       2,       2,\n",
       "             2,       2,       2,       2,       2,       2,       2,\n",
       "             2,       2,       2,       2, -100000,       2,       2,\n",
       "             2,       2,       2,       2,       2,       2,       2,\n",
       "             2,       2,       2,       2,       2], dtype=int64)"
      ]
     },
     "execution_count": 7,
     "metadata": {},
     "output_type": "execute_result"
    }
   ],
   "source": [
    "y_pred = gnb.predict(X_test)\n",
    "y_pred"
   ]
  },
  {
   "cell_type": "markdown",
   "metadata": {},
   "source": [
    "## Comprobar las predicciones"
   ]
  },
  {
   "cell_type": "code",
   "execution_count": 8,
   "metadata": {
    "pycharm": {
     "name": "#%%\n"
    }
   },
   "outputs": [
    {
     "name": "stdout",
     "output_type": "stream",
     "text": [
      "Las prediccion son un:  9.147609147609149 % certeras\n"
     ]
    },
    {
     "data": {
      "image/png": "[encoded data removed]",
      "text/plain": [
       "<Figure size 432x288 with 2 Axes>"
      ]
     },
     "metadata": {
      "needs_background": "light"
     },
     "output_type": "display_data"
    }
   ],
   "source": [
    "print('Las prediccion son un: ', metrics.accuracy_score(y_test, y_pred)*100, '% certeras')\n",
    "metrics.confusion_matrix(y_test, y_pred)\n",
    "disp = metrics.plot_confusion_matrix(gnb, X_test, y_test,cmap=plt.cm.Blues)\n",
    "disp.ax_.set_title('Confusion Matrix')\n",
    "plt.show()"
   ]
  },
  {
   "cell_type": "markdown",
   "metadata": {},
   "source": [
    "# Conclusion\n",
    "\n"
   ]
  }
 ],
 "metadata": {
  "kernelspec": {
   "display_name": "Python 3",
   "language": "python",
   "name": "python3"
  },
  "language_info": {
   "codemirror_mode": {
    "name": "ipython",
    "version": 3
   },
   "file_extension": ".py",
   "mimetype": "text/x-python",
   "name": "python",
   "nbconvert_exporter": "python",
   "pygments_lexer": "ipython3",
   "version": "3.8.3"
  }
 },
 "nbformat": 4,
 "nbformat_minor": 4
}