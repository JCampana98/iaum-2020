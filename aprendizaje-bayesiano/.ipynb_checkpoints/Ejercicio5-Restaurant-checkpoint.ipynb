{
 "cells": [
  {
   "cell_type": "code",
   "execution_count": 1,
   "metadata": {},
   "outputs": [],
   "source": [
    "import pandas as pd\n",
    "from sklearn.model_selection import train_test_split\n",
    "from sklearn.naive_bayes import GaussianNB\n",
    "from sklearn import metrics\n",
    "df = pd.read_csv('restaurant.csv')\n",
    "import matplotlib.pyplot as plt"
   ]
  },
  {
   "cell_type": "code",
   "execution_count": 2,
   "metadata": {},
   "outputs": [
    {
     "data": {
      "text/html": [
       "<div>\n",
       "<style scoped>\n",
       "    .dataframe tbody tr th:only-of-type {\n",
       "        vertical-align: middle;\n",
       "    }\n",
       "\n",
       "    .dataframe tbody tr th {\n",
       "        vertical-align: top;\n",
       "    }\n",
       "\n",
       "    .dataframe thead th {\n",
       "        text-align: right;\n",
       "    }\n",
       "</style>\n",
       "<table border=\"1\" class=\"dataframe\">\n",
       "  <thead>\n",
       "    <tr style=\"text-align: right;\">\n",
       "      <th></th>\n",
       "      <th>ID</th>\n",
       "      <th>Alternativa</th>\n",
       "      <th>Bar</th>\n",
       "      <th>V/Si</th>\n",
       "      <th>Hambre</th>\n",
       "      <th>Clientes</th>\n",
       "      <th>Precio</th>\n",
       "      <th>Lluvia</th>\n",
       "      <th>Reserva</th>\n",
       "      <th>Tipo</th>\n",
       "      <th>Estimada</th>\n",
       "      <th>Esperar</th>\n",
       "    </tr>\n",
       "  </thead>\n",
       "  <tbody>\n",
       "    <tr>\n",
       "      <th>0</th>\n",
       "      <td>X1</td>\n",
       "      <td>Si</td>\n",
       "      <td>No</td>\n",
       "      <td>No</td>\n",
       "      <td>Si</td>\n",
       "      <td>Algunos</td>\n",
       "      <td>$ $ $</td>\n",
       "      <td>No</td>\n",
       "      <td>Si</td>\n",
       "      <td>Francesa</td>\n",
       "      <td>0-10</td>\n",
       "      <td>Si</td>\n",
       "    </tr>\n",
       "    <tr>\n",
       "      <th>1</th>\n",
       "      <td>X2</td>\n",
       "      <td>Si</td>\n",
       "      <td>No</td>\n",
       "      <td>No</td>\n",
       "      <td>Si</td>\n",
       "      <td>Lleno</td>\n",
       "      <td>£</td>\n",
       "      <td>No</td>\n",
       "      <td>No</td>\n",
       "      <td>Tailandesa</td>\n",
       "      <td>30-60</td>\n",
       "      <td>No</td>\n",
       "    </tr>\n",
       "    <tr>\n",
       "      <th>2</th>\n",
       "      <td>X3</td>\n",
       "      <td>No</td>\n",
       "      <td>Si</td>\n",
       "      <td>No</td>\n",
       "      <td>No</td>\n",
       "      <td>Algunos</td>\n",
       "      <td>$</td>\n",
       "      <td>No</td>\n",
       "      <td>No</td>\n",
       "      <td>Hamburguesa</td>\n",
       "      <td>0-10</td>\n",
       "      <td>Si</td>\n",
       "    </tr>\n",
       "    <tr>\n",
       "      <th>3</th>\n",
       "      <td>X4</td>\n",
       "      <td>Si</td>\n",
       "      <td>No</td>\n",
       "      <td>Si</td>\n",
       "      <td>Si</td>\n",
       "      <td>Lleno</td>\n",
       "      <td>$</td>\n",
       "      <td>Si</td>\n",
       "      <td>No</td>\n",
       "      <td>Tailandesa</td>\n",
       "      <td>10-30</td>\n",
       "      <td>Si</td>\n",
       "    </tr>\n",
       "    <tr>\n",
       "      <th>4</th>\n",
       "      <td>X5</td>\n",
       "      <td>Si</td>\n",
       "      <td>No</td>\n",
       "      <td>Si</td>\n",
       "      <td>No</td>\n",
       "      <td>Lleno</td>\n",
       "      <td>$ $ $</td>\n",
       "      <td>No</td>\n",
       "      <td>Si</td>\n",
       "      <td>Francesa</td>\n",
       "      <td>&gt;60</td>\n",
       "      <td>No</td>\n",
       "    </tr>\n",
       "  </tbody>\n",
       "</table>\n",
       "</div>"
      ],
      "text/plain": [
       "   ID Alternativa Bar V/Si Hambre Clientes Precio Lluvia Reserva         Tipo  \\\n",
       "0  X1          Si  No   No     Si  Algunos  $ $ $     No      Si     Francesa   \n",
       "1  X2          Si  No   No     Si    Lleno      £     No      No   Tailandesa   \n",
       "2  X3          No  Si   No     No  Algunos      $     No      No  Hamburguesa   \n",
       "3  X4          Si  No   Si     Si    Lleno      $     Si      No   Tailandesa   \n",
       "4  X5          Si  No   Si     No    Lleno  $ $ $     No      Si     Francesa   \n",
       "\n",
       "  Estimada Esperar  \n",
       "0     0-10      Si  \n",
       "1    30-60      No  \n",
       "2     0-10      Si  \n",
       "3    10-30      Si  \n",
       "4      >60      No  "
      ]
     },
     "execution_count": 2,
     "metadata": {},
     "output_type": "execute_result"
    }
   ],
   "source": [
    "df.head()"
   ]
  },
  {
   "cell_type": "code",
   "execution_count": 13,
   "metadata": {},
   "outputs": [],
   "source": [
    "from sklearn import preprocessing\n",
    "from sklearn.preprocessing import LabelEncoder\n",
    "#creating labelEncoder\n",
    "le = preprocessing.LabelEncoder()\n",
    "\n",
    "\n",
    "df = df.apply(le.fit_transform)\n",
    "\n",
    "\n"
   ]
  },
  {
   "cell_type": "code",
   "execution_count": 14,
   "metadata": {},
   "outputs": [
    {
     "data": {
      "text/plain": [
       "array([[1, 0, 0, 1, 0, 2, 0, 1, 0, 0],\n",
       "       [1, 0, 0, 1, 1, 3, 0, 0, 3, 2],\n",
       "       [0, 1, 0, 0, 0, 0, 0, 0, 1, 0],\n",
       "       [1, 0, 1, 1, 1, 0, 1, 0, 3, 1],\n",
       "       [1, 0, 1, 0, 1, 2, 0, 1, 0, 3],\n",
       "       [0, 1, 0, 1, 0, 1, 1, 1, 2, 0],\n",
       "       [0, 1, 0, 0, 2, 0, 1, 0, 1, 0],\n",
       "       [0, 0, 0, 1, 0, 1, 1, 1, 3, 0],\n",
       "       [0, 1, 1, 0, 1, 0, 1, 0, 1, 3],\n",
       "       [1, 1, 1, 1, 1, 2, 0, 1, 2, 1],\n",
       "       [0, 0, 0, 0, 2, 0, 0, 0, 3, 0],\n",
       "       [1, 1, 1, 1, 1, 0, 0, 0, 1, 2]])"
      ]
     },
     "execution_count": 14,
     "metadata": {},
     "output_type": "execute_result"
    }
   ],
   "source": [
    "df.head()\n",
    "data=df.values[:,1:11]\n",
    "data"
   ]
  },
  {
   "cell_type": "code",
   "execution_count": null,
   "metadata": {},
   "outputs": [],
   "source": []
  },
  {
   "cell_type": "code",
   "execution_count": 15,
   "metadata": {},
   "outputs": [
    {
     "data": {
      "text/plain": [
       "array([1, 0, 1, 1, 0, 1, 0, 1, 0, 0, 0, 1])"
      ]
     },
     "execution_count": 15,
     "metadata": {},
     "output_type": "execute_result"
    }
   ],
   "source": [
    "target=df.values[:,11]\n",
    "target"
   ]
  },
  {
   "cell_type": "code",
   "execution_count": 16,
   "metadata": {},
   "outputs": [
    {
     "data": {
      "text/plain": [
       "array([1, 0, 0, 1, 1, 0, 0, 0, 1])"
      ]
     },
     "execution_count": 16,
     "metadata": {},
     "output_type": "execute_result"
    }
   ],
   "source": [
    "X_train, X_test, y_train, y_test = train_test_split(data, target, test_size=0.2)\n",
    "y_train"
   ]
  },
  {
   "cell_type": "code",
   "execution_count": null,
   "metadata": {},
   "outputs": [],
   "source": []
  },
  {
   "cell_type": "code",
   "execution_count": 17,
   "metadata": {},
   "outputs": [
    {
     "data": {
      "text/plain": [
       "array([1, 0, 0])"
      ]
     },
     "execution_count": 17,
     "metadata": {},
     "output_type": "execute_result"
    }
   ],
   "source": [
    "gnb = GaussianNB()\n",
    "gnb.fit(X_train, y_train)\n",
    "y_pred = gnb.predict(X_test)\n",
    "y_pred"
   ]
  },
  {
   "cell_type": "code",
   "execution_count": 18,
   "metadata": {},
   "outputs": [
    {
     "name": "stdout",
     "output_type": "stream",
     "text": [
      "Accuracy: 0.6666666666666666\n"
     ]
    }
   ],
   "source": [
    "print(\"Accuracy:\",metrics.accuracy_score(y_test, y_pred))"
   ]
  },
  {
   "cell_type": "code",
   "execution_count": 19,
   "metadata": {},
   "outputs": [
    {
     "data": {
      "image/png": "[encoded data removed]",
      "text/plain": [
       "<Figure size 432x288 with 2 Axes>"
      ]
     },
     "metadata": {
      "needs_background": "light"
     },
     "output_type": "display_data"
    }
   ],
   "source": [
    "disp = metrics.plot_confusion_matrix(gnb, X_test, y_test,cmap=plt.cm.Blues)\n",
    "disp.ax_.set_title('Confusion Matrix')\n",
    "plt.show()"
   ]
  },
  {
   "cell_type": "code",
   "execution_count": 20,
   "metadata": {},
   "outputs": [],
   "source": [
    "#new_test = [6.7 ,0.24 , 0.30 ,10.2 ,0.07 ,44.0,179.0, 0.99666 ,2.86 ,0.46 ,8.9]\n",
    "#y_pred = gnb.predict([new_test])\n",
    "#y_pred"
   ]
  },
  {
   "cell_type": "code",
   "execution_count": null,
   "metadata": {},
   "outputs": [],
   "source": []
  },
  {
   "cell_type": "code",
   "execution_count": null,
   "metadata": {},
   "outputs": [],
   "source": []
  }
 ],
 "metadata": {
  "kernelspec": {
   "display_name": "Python 3",
   "language": "python",
   "name": "python3"
  },
  "language_info": {
   "codemirror_mode": {
    "name": "ipython",
    "version": 3
   },
   "file_extension": ".py",
   "mimetype": "text/x-python",
   "name": "python",
   "nbconvert_exporter": "python",
   "pygments_lexer": "ipython3",
   "version": "3.7.7"
  }
 },
 "nbformat": 4,
 "nbformat_minor": 4
}
